{
 "cells": [
  {
   "cell_type": "code",
   "execution_count": 1,
   "metadata": {},
   "outputs": [
    {
     "name": "stderr",
     "output_type": "stream",
     "text": [
      "/tmp/ipykernel_1165/3073574611.py:23: DeprecationWarning: Importing display from IPython.core.display is deprecated since IPython 7.14, please import from IPython display\n",
      "  from IPython.core.display import display, HTML\n"
     ]
    },
    {
     "data": {
      "text/html": [
       "<style>.container { width:100% !important; }</style>"
      ],
      "text/plain": [
       "<IPython.core.display.HTML object>"
      ]
     },
     "metadata": {},
     "output_type": "display_data"
    }
   ],
   "source": [
    "from collections import defaultdict as ddict, OrderedDict as odict\n",
    "from typing import Any, Dict, List\n",
    "\n",
    "import pickle\n",
    "import matplotlib.pyplot as plt\n",
    "import numpy as np\n",
    "import pandas as pd\n",
    "import seaborn as sns\n",
    "from rdkit.Chem import PandasTools, AllChem as Chem, Descriptors\n",
    "from rdkit.ML.Descriptors.MoleculeDescriptors import MolecularDescriptorCalculator\n",
    "from sklearn.ensemble import RandomForestRegressor\n",
    "from sklearn.metrics import mean_absolute_error, r2_score, mean_squared_error\n",
    "from sklearn.model_selection import KFold\n",
    "from sklearn.preprocessing import StandardScaler, MinMaxScaler\n",
    "\n",
    "\n",
    "__author__ = 'Marcel Baltruschat'\n",
    "__copyright__ = 'Copyright © 2020-2023'\n",
    "__license__ = 'MIT'\n",
    "__version__ = '1.1.0'\n",
    "__additional__ = 'Changes & adaptions by Alexander Minidis'\n",
    "\n",
    "from IPython.core.display import display, HTML\n",
    "display(HTML(\"<style>.container { width:100% !important; }</style>\"))\n",
    "\n",
    "pd.set_option('display.float_format', lambda x: '%.3f' % x)  # Display floats without scientific notation\n",
    "sns.set(palette='bright')  # Set bright style for Seaborn\n",
    "PandasTools.RenderImagesInAllDataFrames()  # Render mol images\n"
   ]
  },
  {
   "cell_type": "markdown",
   "metadata": {},
   "source": [
    "## Cross-Validation Class"
   ]
  },
  {
   "cell_type": "code",
   "execution_count": 2,
   "metadata": {},
   "outputs": [],
   "source": [
    "\"\"\"\n",
    "Copyright © 2019 Marcel Baltruschat\n",
    "\n",
    "Permission is hereby granted, free of charge, to any person obtaining a copy of this software and associated documentation files \n",
    "(the “Software”), to deal in the Software without restriction, including without limitation the rights to use, copy, modify, merge, \n",
    "publish, distribute, sublicense, and/or sell copies of the Software, and to permit persons to whom the Software is furnished to do \n",
    "so, subject to the following conditions:\n",
    "\n",
    "The above copyright notice and this permission notice shall be included in all copies or substantial portions of the Software.\n",
    "\n",
    "Source: https://github.com/czodrowskilab/gafp/tree/master/fp\n",
    "\"\"\"\n",
    "class CVRegressor:\n",
    "    \"\"\"\n",
    "    Regressor that predicts based on predictions of k models from k-fold CV.\n",
    "    Accepts any Scikit-learn-like regressor as base regressor. It trains k models\n",
    "    by doing k-fold CV and stores the individual models. Predictions\n",
    "    on new samples are done by calculating mean predictions from all models.\n",
    "    \n",
    "    Parameters\n",
    "    ----------\n",
    "    est : Any\n",
    "        Scikit-learn (-like) regressor object. Must contain .fit() and .predict() methods.\n",
    "    params : Dict[str, Any]\n",
    "        Regressor parameters\n",
    "    n_folds : int\n",
    "        Number of folds for k-fold\n",
    "    shuffle : bool\n",
    "        Shuffling of data for CV\n",
    "    \"\"\"\n",
    "    __slots__ = ('est', 'params', 'models', 'n_folds', 'shuffle', 'cv_scores')\n",
    "\n",
    "    def __init__(self, est: Any, params: Dict[str, Any], n_folds: int = 5, shuffle: bool = True):\n",
    "        self.est = est\n",
    "        self.params = params\n",
    "        self.models = []\n",
    "        self.n_folds = n_folds\n",
    "        self.shuffle = shuffle\n",
    "        self.cv_scores = ddict(list)\n",
    "\n",
    "    def fit(self, x_data: np.ndarray, y_data: np.ndarray, scoring_funcs: List=(), random_state: int=None) -> None:\n",
    "        \"\"\"\n",
    "        Build a regressor consisting of k-models.\n",
    "        \n",
    "        Parameters\n",
    "        ----------\n",
    "        x_data : numpy.ndarray\n",
    "            Training data\n",
    "        y_data : numpy.ndarray\n",
    "            Target values\n",
    "        scoring_funcs : list\n",
    "            List of scoring functions to use for evaluating cross-validation results\n",
    "        random_state : int\n",
    "            Integer to use for seeding the k-fold split\n",
    "        \"\"\"\n",
    "\n",
    "        kf = KFold(n_splits=self.n_folds, shuffle=self.shuffle, random_state=random_state)\n",
    "        kf = kf.split(X=x_data, y=y_data)\n",
    "\n",
    "        # Fit k models and store them\n",
    "        for train_index, test_index in kf:\n",
    "            est_tmp = self.est(**self.params)\n",
    "            est_tmp.fit(x_data[train_index], y_data[train_index])\n",
    "            if scoring_funcs:\n",
    "                test_pred = est_tmp.predict(x_data[test_index])\n",
    "                for sf in scoring_funcs:\n",
    "                    self.cv_scores[str(sf).split(' ')[1]].append(sf(y_data[test_index], test_pred))\n",
    "            self.models.append(est_tmp)\n",
    "\n",
    "    def predict(self, x_data: np.ndarray) -> np.ndarray:\n",
    "        \"\"\"\n",
    "        Predict using prediction mean from k models.\n",
    "        \n",
    "        Parameters\n",
    "        ----------\n",
    "        x_data : numpy.ndarray\n",
    "            Samples to predict\n",
    "        \n",
    "        Returns\n",
    "        -------\n",
    "        numpy.ndarray\n",
    "            Predicted values\n",
    "        \"\"\"\n",
    "\n",
    "        return np.mean([m.predict(x_data) for m in self.models], axis=0)"
   ]
  },
  {
   "cell_type": "markdown",
   "metadata": {},
   "source": [
    "## function"
   ]
  },
  {
   "cell_type": "code",
   "execution_count": 3,
   "metadata": {},
   "outputs": [],
   "source": [
    "def rmse(y_true, y_pred):\n",
    "    \"\"\"Helper function\"\"\"\n",
    "    return mean_squared_error(y_true, y_pred, squared=False)\n",
    "\n",
    "def calc_stats_str(pka1, pka2):\n",
    "    \"\"\"Calculates R², MAE and RMSE for two iterables of floats or integers\"\"\"\n",
    "    assert len(pka1) == len(pka2), \"Both iterables must have the same length\"\n",
    "    return f'R²: {r2_score(pka1, pka2):.3f}\\n' \\\n",
    "           f'MAE: {mean_absolute_error(pka1, pka2):.3f}\\n' \\\n",
    "           f'RMSE: {rmse(pka1, pka2):.3f}'\n",
    "\n",
    "def train_cv_model(est_cls, x_data, y_data, params, random_state,\n",
    "                   cv=5, shuffle=True, scaled=False, scoring_funcs=(mean_absolute_error, rmse, r2_score)):\n",
    "    \"\"\"Scales the training data if wanted and trains a cross-validated model\"\"\"\n",
    "    scaler = None\n",
    "    if scaled:\n",
    "        scaler = StandardScaler()\n",
    "        x_data = scaler.fit_transform(x_data)\n",
    "    cvr = CVRegressor(est=est_cls, params=params, n_folds=cv, shuffle=shuffle)\n",
    "    cvr.fit(x_data, y_data, scoring_funcs=scoring_funcs, random_state=random_state)\n",
    "    return cvr, scaler\n",
    "\n",
    "def calc_x_data(df, mols, radius=3, nBits=2048):  \n",
    "    \"\"\"Calculates fingerprints for Rdkit object, combines with previous calculcated descriptors\"\"\"\n",
    "\n",
    "    fmorgan = [] \n",
    "    for mol in mols:\n",
    "        # descs not calculated here\n",
    "        fmorgan.append(Chem.GetMorganFingerprintAsBitVect(mol, radius=radius, nBits=nBits, useFeatures=True))\n",
    "    descs = df.values # only throughput to stick to original code\n",
    "    fmorgan = np.array(fmorgan)\n",
    "    return descs, fmorgan, np.concatenate([descs, fmorgan], axis=1)\n",
    "\n",
    "def duplicates(X, round=None) -> list:\n",
    "    \"\"\"Drop duplicate columns in dataframe\n",
    "\n",
    "    :param X: input dataframe\n",
    "    :type X: pandas.core.frame.DataFrame\n",
    "    :param round: decimal point used for rounding. If set the dataframe is scaled with MinMaxScaler \\\n",
    "    and rounded to the given precision, afterward duplicates are removed. This allows to drop duplicates avoiding \\\n",
    "    floating point precision issues\n",
    "    :type round: int\n",
    "    :return: list of columns that are duplicates\n",
    "    \"\"\"\n",
    "\n",
    "    _X = X.copy()\n",
    "    if round is not None:\n",
    "        scaler = MinMaxScaler()\n",
    "        _X = pd.DataFrame(scaler.fit_transform(X_),\n",
    "                          columns=_X.columns,\n",
    "                          index=_X.index)\n",
    "        _X = _X.round(round)\n",
    "    return _X.columns[_X.T.duplicated()].tolist()\n",
    "\n",
    "\n",
    "def correlated(X, threshold=0.95) -> list:\n",
    "    \"\"\"Decorrelate dataframe by finding which columns shall \\\n",
    "    be removed to achieve correlation level below threshold\n",
    "\n",
    "    :param X: input dataframe\n",
    "    :type X: pandas.core.frame.DataFrame\n",
    "    :param threshold: maximum correlation allowed in the frame X\n",
    "    :type threshold: float\n",
    "    :return: list of columns to prune in order to achieve desired decorrelation level\n",
    "    \"\"\"\n",
    "\n",
    "    X_ = X.copy()\n",
    "    N = X_.shape[1]\n",
    "    corr = X_.corr().abs()\n",
    "\n",
    "    to_drop = set()\n",
    "    for i in range(N - 1):\n",
    "        for j in range(i + 1, N):\n",
    "            if corr.iloc[i][j] > threshold and i not in to_drop:\n",
    "                to_drop.add(j)\n",
    "    return [X_.columns[i] for i in to_drop]"
   ]
  },
  {
   "cell_type": "markdown",
   "metadata": {},
   "source": [
    "---\n",
    "## Loading Precombined Dataset"
   ]
  },
  {
   "cell_type": "code",
   "execution_count": 4,
   "metadata": {},
   "outputs": [
    {
     "name": "stdout",
     "output_type": "stream",
     "text": [
      "\n",
      "Reading pickle file:  datasets_AM/all_data_cleaned_properties.pkl\n",
      "(13219, 153)\n"
     ]
    },
    {
     "data": {
      "text/html": [
       "<div>\n",
       "<style scoped>\n",
       "    .dataframe tbody tr th:only-of-type {\n",
       "        vertical-align: middle;\n",
       "    }\n",
       "\n",
       "    .dataframe tbody tr th {\n",
       "        vertical-align: top;\n",
       "    }\n",
       "\n",
       "    .dataframe thead th {\n",
       "        text-align: right;\n",
       "    }\n",
       "</style>\n",
       "<table border=\"1\" class=\"dataframe\">\n",
       "  <thead>\n",
       "    <tr style=\"text-align: right;\">\n",
       "      <th></th>\n",
       "      <th>pKa</th>\n",
       "      <th>MolLogP</th>\n",
       "      <th>MolMR</th>\n",
       "      <th>MolWt</th>\n",
       "      <th>NHOHCount</th>\n",
       "      <th>NOCount</th>\n",
       "      <th>FractionCSP3</th>\n",
       "      <th>RingCount</th>\n",
       "      <th>NumAliphaticCarbocycles</th>\n",
       "      <th>NumAliphaticHeterocycles</th>\n",
       "      <th>...</th>\n",
       "      <th>MQN33</th>\n",
       "      <th>MQN34</th>\n",
       "      <th>MQN35</th>\n",
       "      <th>MQN36</th>\n",
       "      <th>MQN37</th>\n",
       "      <th>MQN38</th>\n",
       "      <th>MQN39</th>\n",
       "      <th>MQN40</th>\n",
       "      <th>MQN41</th>\n",
       "      <th>MQN42</th>\n",
       "    </tr>\n",
       "  </thead>\n",
       "  <tbody>\n",
       "    <tr>\n",
       "      <th>count</th>\n",
       "      <td>13219.000</td>\n",
       "      <td>13219.000</td>\n",
       "      <td>13219.000</td>\n",
       "      <td>13219.000</td>\n",
       "      <td>13219.000</td>\n",
       "      <td>13219.000</td>\n",
       "      <td>13219.000</td>\n",
       "      <td>13219.000</td>\n",
       "      <td>13219.000</td>\n",
       "      <td>13219.000</td>\n",
       "      <td>...</td>\n",
       "      <td>13219.000</td>\n",
       "      <td>13219.000</td>\n",
       "      <td>13219.000</td>\n",
       "      <td>13219.000</td>\n",
       "      <td>13219.000</td>\n",
       "      <td>13219.000</td>\n",
       "      <td>13219.000</td>\n",
       "      <td>13219.000</td>\n",
       "      <td>13219.000</td>\n",
       "      <td>13219.000</td>\n",
       "    </tr>\n",
       "    <tr>\n",
       "      <th>mean</th>\n",
       "      <td>6.980</td>\n",
       "      <td>2.024</td>\n",
       "      <td>74.685</td>\n",
       "      <td>276.703</td>\n",
       "      <td>1.798</td>\n",
       "      <td>4.379</td>\n",
       "      <td>0.371</td>\n",
       "      <td>2.286</td>\n",
       "      <td>0.172</td>\n",
       "      <td>0.461</td>\n",
       "      <td>...</td>\n",
       "      <td>0.030</td>\n",
       "      <td>0.024</td>\n",
       "      <td>0.476</td>\n",
       "      <td>1.722</td>\n",
       "      <td>0.024</td>\n",
       "      <td>0.001</td>\n",
       "      <td>0.001</td>\n",
       "      <td>0.009</td>\n",
       "      <td>1.250</td>\n",
       "      <td>0.730</td>\n",
       "    </tr>\n",
       "    <tr>\n",
       "      <th>std</th>\n",
       "      <td>2.565</td>\n",
       "      <td>2.047</td>\n",
       "      <td>36.311</td>\n",
       "      <td>135.380</td>\n",
       "      <td>1.503</td>\n",
       "      <td>2.565</td>\n",
       "      <td>0.278</td>\n",
       "      <td>1.525</td>\n",
       "      <td>0.560</td>\n",
       "      <td>0.768</td>\n",
       "      <td>...</td>\n",
       "      <td>0.179</td>\n",
       "      <td>0.162</td>\n",
       "      <td>0.675</td>\n",
       "      <td>1.325</td>\n",
       "      <td>0.155</td>\n",
       "      <td>0.023</td>\n",
       "      <td>0.044</td>\n",
       "      <td>0.100</td>\n",
       "      <td>2.000</td>\n",
       "      <td>1.559</td>\n",
       "    </tr>\n",
       "    <tr>\n",
       "      <th>min</th>\n",
       "      <td>1.700</td>\n",
       "      <td>-8.185</td>\n",
       "      <td>6.670</td>\n",
       "      <td>27.026</td>\n",
       "      <td>0.000</td>\n",
       "      <td>0.000</td>\n",
       "      <td>0.000</td>\n",
       "      <td>0.000</td>\n",
       "      <td>0.000</td>\n",
       "      <td>0.000</td>\n",
       "      <td>...</td>\n",
       "      <td>0.000</td>\n",
       "      <td>0.000</td>\n",
       "      <td>0.000</td>\n",
       "      <td>0.000</td>\n",
       "      <td>0.000</td>\n",
       "      <td>0.000</td>\n",
       "      <td>0.000</td>\n",
       "      <td>0.000</td>\n",
       "      <td>0.000</td>\n",
       "      <td>0.000</td>\n",
       "    </tr>\n",
       "    <tr>\n",
       "      <th>25%</th>\n",
       "      <td>4.750</td>\n",
       "      <td>0.747</td>\n",
       "      <td>45.160</td>\n",
       "      <td>165.192</td>\n",
       "      <td>1.000</td>\n",
       "      <td>3.000</td>\n",
       "      <td>0.154</td>\n",
       "      <td>1.000</td>\n",
       "      <td>0.000</td>\n",
       "      <td>0.000</td>\n",
       "      <td>...</td>\n",
       "      <td>0.000</td>\n",
       "      <td>0.000</td>\n",
       "      <td>0.000</td>\n",
       "      <td>1.000</td>\n",
       "      <td>0.000</td>\n",
       "      <td>0.000</td>\n",
       "      <td>0.000</td>\n",
       "      <td>0.000</td>\n",
       "      <td>0.000</td>\n",
       "      <td>0.000</td>\n",
       "    </tr>\n",
       "    <tr>\n",
       "      <th>50%</th>\n",
       "      <td>7.260</td>\n",
       "      <td>2.006</td>\n",
       "      <td>68.107</td>\n",
       "      <td>251.333</td>\n",
       "      <td>1.000</td>\n",
       "      <td>4.000</td>\n",
       "      <td>0.333</td>\n",
       "      <td>2.000</td>\n",
       "      <td>0.000</td>\n",
       "      <td>0.000</td>\n",
       "      <td>...</td>\n",
       "      <td>0.000</td>\n",
       "      <td>0.000</td>\n",
       "      <td>0.000</td>\n",
       "      <td>1.000</td>\n",
       "      <td>0.000</td>\n",
       "      <td>0.000</td>\n",
       "      <td>0.000</td>\n",
       "      <td>0.000</td>\n",
       "      <td>0.000</td>\n",
       "      <td>0.000</td>\n",
       "    </tr>\n",
       "    <tr>\n",
       "      <th>75%</th>\n",
       "      <td>9.080</td>\n",
       "      <td>3.417</td>\n",
       "      <td>99.747</td>\n",
       "      <td>369.368</td>\n",
       "      <td>3.000</td>\n",
       "      <td>6.000</td>\n",
       "      <td>0.500</td>\n",
       "      <td>3.000</td>\n",
       "      <td>0.000</td>\n",
       "      <td>1.000</td>\n",
       "      <td>...</td>\n",
       "      <td>0.000</td>\n",
       "      <td>0.000</td>\n",
       "      <td>1.000</td>\n",
       "      <td>3.000</td>\n",
       "      <td>0.000</td>\n",
       "      <td>0.000</td>\n",
       "      <td>0.000</td>\n",
       "      <td>0.000</td>\n",
       "      <td>2.000</td>\n",
       "      <td>1.000</td>\n",
       "    </tr>\n",
       "    <tr>\n",
       "      <th>max</th>\n",
       "      <td>13.000</td>\n",
       "      <td>13.099</td>\n",
       "      <td>333.040</td>\n",
       "      <td>1216.662</td>\n",
       "      <td>12.000</td>\n",
       "      <td>23.000</td>\n",
       "      <td>1.000</td>\n",
       "      <td>9.000</td>\n",
       "      <td>6.000</td>\n",
       "      <td>5.000</td>\n",
       "      <td>...</td>\n",
       "      <td>3.000</td>\n",
       "      <td>3.000</td>\n",
       "      <td>6.000</td>\n",
       "      <td>8.000</td>\n",
       "      <td>2.000</td>\n",
       "      <td>1.000</td>\n",
       "      <td>2.000</td>\n",
       "      <td>2.000</td>\n",
       "      <td>27.000</td>\n",
       "      <td>28.000</td>\n",
       "    </tr>\n",
       "  </tbody>\n",
       "</table>\n",
       "<p>8 rows × 149 columns</p>\n",
       "</div>"
      ],
      "text/plain": [
       "            pKa   MolLogP     MolMR     MolWt  NHOHCount   NOCount  \\\n",
       "count 13219.000 13219.000 13219.000 13219.000  13219.000 13219.000   \n",
       "mean      6.980     2.024    74.685   276.703      1.798     4.379   \n",
       "std       2.565     2.047    36.311   135.380      1.503     2.565   \n",
       "min       1.700    -8.185     6.670    27.026      0.000     0.000   \n",
       "25%       4.750     0.747    45.160   165.192      1.000     3.000   \n",
       "50%       7.260     2.006    68.107   251.333      1.000     4.000   \n",
       "75%       9.080     3.417    99.747   369.368      3.000     6.000   \n",
       "max      13.000    13.099   333.040  1216.662     12.000    23.000   \n",
       "\n",
       "       FractionCSP3  RingCount  NumAliphaticCarbocycles  \\\n",
       "count     13219.000  13219.000                13219.000   \n",
       "mean          0.371      2.286                    0.172   \n",
       "std           0.278      1.525                    0.560   \n",
       "min           0.000      0.000                    0.000   \n",
       "25%           0.154      1.000                    0.000   \n",
       "50%           0.333      2.000                    0.000   \n",
       "75%           0.500      3.000                    0.000   \n",
       "max           1.000      9.000                    6.000   \n",
       "\n",
       "       NumAliphaticHeterocycles  ...     MQN33     MQN34     MQN35     MQN36  \\\n",
       "count                 13219.000  ... 13219.000 13219.000 13219.000 13219.000   \n",
       "mean                      0.461  ...     0.030     0.024     0.476     1.722   \n",
       "std                       0.768  ...     0.179     0.162     0.675     1.325   \n",
       "min                       0.000  ...     0.000     0.000     0.000     0.000   \n",
       "25%                       0.000  ...     0.000     0.000     0.000     1.000   \n",
       "50%                       0.000  ...     0.000     0.000     0.000     1.000   \n",
       "75%                       1.000  ...     0.000     0.000     1.000     3.000   \n",
       "max                       5.000  ...     3.000     3.000     6.000     8.000   \n",
       "\n",
       "          MQN37     MQN38     MQN39     MQN40     MQN41     MQN42  \n",
       "count 13219.000 13219.000 13219.000 13219.000 13219.000 13219.000  \n",
       "mean      0.024     0.001     0.001     0.009     1.250     0.730  \n",
       "std       0.155     0.023     0.044     0.100     2.000     1.559  \n",
       "min       0.000     0.000     0.000     0.000     0.000     0.000  \n",
       "25%       0.000     0.000     0.000     0.000     0.000     0.000  \n",
       "50%       0.000     0.000     0.000     0.000     0.000     0.000  \n",
       "75%       0.000     0.000     0.000     0.000     2.000     1.000  \n",
       "max       2.000     1.000     2.000     2.000    27.000    28.000  \n",
       "\n",
       "[8 rows x 149 columns]"
      ]
     },
     "execution_count": 4,
     "metadata": {},
     "output_type": "execute_result"
    }
   ],
   "source": [
    "# read pickle file\n",
    "pickle_input = \"datasets_AM/all_data_cleaned_properties.pkl\"\n",
    "print(\"\\nReading pickle file: \", pickle_input)\n",
    "with open(pickle_input, \"rb\") as f:\n",
    "    df_full = pickle.load(f)\n",
    "print(df_full.shape) \n",
    "df=df_full.drop(['Source', 'ISO_SMI', 'marvin_pKa', 'ID'], axis=1,  errors=\"ignore\")\n",
    "df.describe()"
   ]
  },
  {
   "cell_type": "markdown",
   "metadata": {},
   "source": [
    "### remove noise etc"
   ]
  },
  {
   "cell_type": "code",
   "execution_count": 5,
   "metadata": {},
   "outputs": [
    {
     "name": "stdout",
     "output_type": "stream",
     "text": [
      "Number of features at start: 149, number of samples: 13219\n",
      "Removed columns: []\n"
     ]
    },
    {
     "data": {
      "text/plain": [
       "'Zero std columns: 5'"
      ]
     },
     "metadata": {},
     "output_type": "display_data"
    },
    {
     "data": {
      "text/plain": [
       "'Duplicate columns: 4'"
      ]
     },
     "metadata": {},
     "output_type": "display_data"
    },
    {
     "name": "stdout",
     "output_type": "stream",
     "text": [
      "Removed columns: ['MQN12', 'MaxEStateIndex', 'NHOHCount', 'NumRotatableBonds']\n"
     ]
    },
    {
     "data": {
      "text/plain": [
       "'Correlated features: 7'"
      ]
     },
     "metadata": {},
     "output_type": "display_data"
    },
    {
     "name": "stdout",
     "output_type": "stream",
     "text": [
      "Number of features at the end: 133, number of samples: 13219\n"
     ]
    }
   ],
   "source": [
    "# normally done on training data only\n",
    "print (f\"Number of features at start: {df.shape[1]}, number of samples: {df.shape[0]}\")\n",
    "nan_columns = df.columns[df.isna().any()].tolist()\n",
    "df = df.drop(nan_columns, axis=1)\n",
    "print(\"Removed columns:\", nan_columns)\n",
    "zero_std = df.std()[df.std() == 0].index\n",
    "display(f\"Zero std columns: {len(zero_std)}\")\n",
    "df = df[df.columns.difference(zero_std)]\n",
    "dupes = duplicates(df, round=3)\n",
    "display(f\"Duplicate columns: {len(dupes)}\")\n",
    "df = df[df.columns.difference(dupes)]\n",
    "print(\"Removed columns:\", dupes)\n",
    "high_corr = correlated(df, threshold=0.99)\n",
    "display(f\"Correlated features: {len(high_corr)}\")\n",
    "df = df[df.columns.difference(high_corr)]\n",
    "print (f\"Number of features at the end: {df.shape[1]}, number of samples: {df.shape[0]}\")"
   ]
  },
  {
   "cell_type": "markdown",
   "metadata": {},
   "source": [
    "## Show p<i>K</i><sub>a</sub> Distribution"
   ]
  },
  {
   "cell_type": "code",
   "execution_count": 6,
   "metadata": {},
   "outputs": [
    {
     "data": {
      "image/png": "[encoded data removed]",
      "text/plain": [
       "<Figure size 640x480 with 1 Axes>"
      ]
     },
     "metadata": {},
     "output_type": "display_data"
    }
   ],
   "source": [
    "sns_major, sns_minor = map(int, sns.__version__.split('.')[:2])\n",
    "plt.figure(dpi=100)\n",
    "if sns_major > 0 or sns_minor >= 11:\n",
    "    sns.histplot(df.pKa, kde=True, stat='density')\n",
    "else:\n",
    "    sns.distplot(df.pKa)\n",
    "plt.ylabel('Density')\n",
    "plt.xlabel('p$K$ₐ')\n",
    "plt.title('Monoprotic p$K$ₐ Distribution')\n",
    "plt.tight_layout()\n",
    "plt.show()"
   ]
  },
  {
   "cell_type": "markdown",
   "metadata": {},
   "source": [
    "## Calculating Fingerprints (descriptors previously done and combine all)"
   ]
  },
  {
   "cell_type": "code",
   "execution_count": 7,
   "metadata": {},
   "outputs": [],
   "source": [
    "df_full['ROMol'] = df_full['ISO_SMI'].apply(Chem.MolFromSmiles)\n",
    "descs_df = df.drop(['pKa'], axis=1,  errors=\"ignore\")\n",
    "radius = 2\n",
    "nBits = 2048\n",
    "# reusing the function almost as is but skipping descs, but leaving the option to add them later\n",
    "descs, fmorgan, descs_fmorgan = calc_x_data(descs_df, df_full.ROMol, radius=radius, nBits=nBits)\n"
   ]
  },
  {
   "cell_type": "markdown",
   "metadata": {},
   "source": [
    "---\n",
    "## Training Random Forest\n",
    "#### Using the following training sets with 5-fold cross-validation (shuffled)\n",
    "1. RDKit descriptor set\n",
    "2. Fmorgan\n",
    "3. RDKit descriptor set + Fmorgan\n",
    "4. RDKit descriptor set (standard scaled)\n",
    "5. Fmorgan (standard scaled)\n",
    "6. RDKit descriptor set + Fmorgan (standard scaled)"
   ]
  },
  {
   "cell_type": "markdown",
   "metadata": {},
   "source": [
    "### Prepare for Training"
   ]
  },
  {
   "cell_type": "code",
   "execution_count": 8,
   "metadata": {},
   "outputs": [],
   "source": [
    "seed = 42\n",
    "\n",
    "est_jobs = -1\n",
    "verbose = False\n",
    "\n",
    "y_train = df.pKa.values\n",
    "desc_sets = list(zip([descs, fmorgan, descs_fmorgan] * 2, \n",
    "                     [False] * 3 + [True] * 3, \n",
    "                     ['Desc', 'FMorgan', 'Desc_FMorgan', 'Desc_scaled', 'FMorgan_scaled', 'Desc_FMorgan_scaled']))\n",
    "\n",
    "models = ddict(odict)  # estimator => training set => [model, scaler]\n",
    "\n",
    "def train_all_sets(est_cls, params, name):\n",
    "    for x_data, scaled, set_name in desc_sets:\n",
    "        models[name][set_name] = train_cv_model(est_cls, x_data, y_train, params, seed, scaled=scaled)\n",
    "        # outch, this works in jupyter, but is not very clean it should be returned ...."
   ]
  },
  {
   "cell_type": "code",
   "execution_count": 9,
   "metadata": {},
   "outputs": [],
   "source": [
    "def generate_score_board(name):\n",
    "    print(f'{name} CV Scores:')\n",
    "    for ts, (m, s) in models[name].items():\n",
    "        print(f'\\t{ts}')\n",
    "        for k, v in m.cv_scores.items():\n",
    "            print(f'\\t\\t- {k}: {np.mean(v):.3f} ± {np.std(v):.3f}')"
   ]
  },
  {
   "cell_type": "markdown",
   "metadata": {},
   "source": [
    "---\n",
    "### RandomForest"
   ]
  },
  {
   "cell_type": "code",
   "execution_count": 12,
   "metadata": {},
   "outputs": [],
   "source": [
    "est_cls = RandomForestRegressor\n",
    "rf_params = dict(n_estimators=10, n_jobs=est_jobs, verbose=verbose, random_state=seed)\n",
    "name = 'RandomForest (n_estimators=1000)'\n",
    "\n",
    "train_all_sets(est_cls, rf_params, name)"
   ]
  },
  {
   "cell_type": "code",
   "execution_count": 13,
   "metadata": {},
   "outputs": [
    {
     "name": "stdout",
     "output_type": "stream",
     "text": [
      "RandomForest (n_estimators=1000) CV Scores:\n",
      "\tDesc\n",
      "\t\t- mean_absolute_error: 1.142 ± 0.019\n",
      "\t\t- rmse: 1.676 ± 0.029\n",
      "\t\t- r2_score: 0.573 ± 0.017\n",
      "\tFMorgan\n",
      "\t\t- mean_absolute_error: 1.033 ± 0.022\n",
      "\t\t- rmse: 1.599 ± 0.033\n",
      "\t\t- r2_score: 0.611 ± 0.016\n",
      "\tDesc_FMorgan\n",
      "\t\t- mean_absolute_error: 1.044 ± 0.019\n",
      "\t\t- rmse: 1.579 ± 0.023\n",
      "\t\t- r2_score: 0.621 ± 0.015\n",
      "\tDesc_scaled\n",
      "\t\t- mean_absolute_error: 1.141 ± 0.016\n",
      "\t\t- rmse: 1.674 ± 0.027\n",
      "\t\t- r2_score: 0.574 ± 0.017\n",
      "\tFMorgan_scaled\n",
      "\t\t- mean_absolute_error: 1.033 ± 0.022\n",
      "\t\t- rmse: 1.599 ± 0.033\n",
      "\t\t- r2_score: 0.611 ± 0.016\n",
      "\tDesc_FMorgan_scaled\n",
      "\t\t- mean_absolute_error: 1.043 ± 0.018\n",
      "\t\t- rmse: 1.577 ± 0.021\n",
      "\t\t- r2_score: 0.622 ± 0.013\n"
     ]
    }
   ],
   "source": [
    "generate_score_board(name)"
   ]
  },
  {
   "cell_type": "markdown",
   "metadata": {},
   "source": [
    "---\n",
    "## Predicting external testsets"
   ]
  },
  {
   "cell_type": "code",
   "execution_count": 20,
   "metadata": {},
   "outputs": [
    {
     "name": "stdout",
     "output_type": "stream",
     "text": [
      "\n",
      "Reading pickle file:  datasets_AM/novartis_cleaned_properties.pkl\n",
      "(280, 153)\n"
     ]
    }
   ],
   "source": [
    "# read pickle file\n",
    "pickle_input = \"datasets_AM/novartis_cleaned_properties.pkl\"\n",
    "print(\"\\nReading pickle file: \", pickle_input)\n",
    "with open(pickle_input, \"rb\") as f:\n",
    "    novartis_testset = pickle.load(f)\n",
    "print(novartis_testset.shape)\n",
    "\n",
    "desc_nov = novartis_testset.reindex(columns=df.columns) # use only columns after cleaning from training set\n",
    "desc_nov = desc_nov.drop(['pKa'], axis=1,  errors=\"ignore\")\n"
   ]
  },
  {
   "cell_type": "code",
   "execution_count": 21,
   "metadata": {},
   "outputs": [],
   "source": [
    "if 'ROMol' not in novartis_testset.columns:\n",
    "    novartis_testset['ROMol'] = novartis_testset['ISO_SMI'].apply(Chem.MolFromSmiles)"
   ]
  },
  {
   "cell_type": "code",
   "execution_count": 26,
   "metadata": {},
   "outputs": [],
   "source": [
    "descs_nov, fmorgan_nov, descs_fmorgan_nov = calc_x_data(desc_nov, novartis_testset.ROMol, radius=radius, nBits=nBits)"
   ]
  },
  {
   "cell_type": "markdown",
   "metadata": {},
   "source": [
    "#### Predicting with all models"
   ]
  },
  {
   "cell_type": "code",
   "execution_count": 27,
   "metadata": {},
   "outputs": [],
   "source": [
    "def test_all_models(desc, fp, both, true_vals):\n",
    "    res = ddict(list)\n",
    "    for conf, desc_set in models.items():\n",
    "        for ts, (m, s) in desc_set.items():\n",
    "            \n",
    "            x_test = both if ts.startswith('Desc_FMorgan') else fp if ts.startswith('FMorgan') else desc\n",
    "            if s:\n",
    "                x_test = s.transform(x_test)\n",
    "            pred = m.predict(x_test)\n",
    "            res['Model'].append(conf)\n",
    "            res['Trainset'].append(ts)\n",
    "            res['MAE'].append(mean_absolute_error(true_vals, pred))\n",
    "            res['RMSE'].append(rmse(true_vals, pred))\n",
    "            res['R2'].append(r2_score(true_vals, pred))\n",
    "    return pd.DataFrame(res)"
   ]
  },
  {
   "cell_type": "code",
   "execution_count": null,
   "metadata": {},
   "outputs": [],
   "source": [
    "print(fmorgan_nov)"
   ]
  },
  {
   "cell_type": "code",
   "execution_count": 28,
   "metadata": {},
   "outputs": [],
   "source": [
    "res_df_nov = test_all_models(descs_nov, fmorgan_nov, descs_fmorgan_nov, novartis_testset.pKa)"
   ]
  },
  {
   "cell_type": "code",
   "execution_count": 29,
   "metadata": {},
   "outputs": [
    {
     "data": {
      "text/html": [
       "<div>\n",
       "<style scoped>\n",
       "    .dataframe tbody tr th:only-of-type {\n",
       "        vertical-align: middle;\n",
       "    }\n",
       "\n",
       "    .dataframe tbody tr th {\n",
       "        vertical-align: top;\n",
       "    }\n",
       "\n",
       "    .dataframe thead th {\n",
       "        text-align: right;\n",
       "    }\n",
       "</style>\n",
       "<table border=\"1\" class=\"dataframe\">\n",
       "  <thead>\n",
       "    <tr style=\"text-align: right;\">\n",
       "      <th></th>\n",
       "      <th>Model</th>\n",
       "      <th>Trainset</th>\n",
       "      <th>MAE</th>\n",
       "      <th>RMSE</th>\n",
       "      <th>R2</th>\n",
       "    </tr>\n",
       "  </thead>\n",
       "  <tbody>\n",
       "    <tr>\n",
       "      <th>0</th>\n",
       "      <td>RandomForest (n_estimators=1000)</td>\n",
       "      <td>Desc</td>\n",
       "      <td>0.891</td>\n",
       "      <td>1.095</td>\n",
       "      <td>0.774</td>\n",
       "    </tr>\n",
       "    <tr>\n",
       "      <th>1</th>\n",
       "      <td>RandomForest (n_estimators=1000)</td>\n",
       "      <td>FMorgan</td>\n",
       "      <td>0.687</td>\n",
       "      <td>0.910</td>\n",
       "      <td>0.844</td>\n",
       "    </tr>\n",
       "    <tr>\n",
       "      <th>2</th>\n",
       "      <td>RandomForest (n_estimators=1000)</td>\n",
       "      <td>Desc_FMorgan</td>\n",
       "      <td>0.801</td>\n",
       "      <td>1.007</td>\n",
       "      <td>0.809</td>\n",
       "    </tr>\n",
       "    <tr>\n",
       "      <th>3</th>\n",
       "      <td>RandomForest (n_estimators=1000)</td>\n",
       "      <td>Desc_scaled</td>\n",
       "      <td>0.884</td>\n",
       "      <td>1.082</td>\n",
       "      <td>0.779</td>\n",
       "    </tr>\n",
       "    <tr>\n",
       "      <th>4</th>\n",
       "      <td>RandomForest (n_estimators=1000)</td>\n",
       "      <td>FMorgan_scaled</td>\n",
       "      <td>0.687</td>\n",
       "      <td>0.910</td>\n",
       "      <td>0.844</td>\n",
       "    </tr>\n",
       "    <tr>\n",
       "      <th>5</th>\n",
       "      <td>RandomForest (n_estimators=1000)</td>\n",
       "      <td>Desc_FMorgan_scaled</td>\n",
       "      <td>0.795</td>\n",
       "      <td>1.005</td>\n",
       "      <td>0.810</td>\n",
       "    </tr>\n",
       "  </tbody>\n",
       "</table>\n",
       "</div>"
      ],
      "text/plain": [
       "                              Model             Trainset   MAE  RMSE    R2\n",
       "0  RandomForest (n_estimators=1000)                 Desc 0.891 1.095 0.774\n",
       "1  RandomForest (n_estimators=1000)              FMorgan 0.687 0.910 0.844\n",
       "2  RandomForest (n_estimators=1000)         Desc_FMorgan 0.801 1.007 0.809\n",
       "3  RandomForest (n_estimators=1000)          Desc_scaled 0.884 1.082 0.779\n",
       "4  RandomForest (n_estimators=1000)       FMorgan_scaled 0.687 0.910 0.844\n",
       "5  RandomForest (n_estimators=1000)  Desc_FMorgan_scaled 0.795 1.005 0.810"
      ]
     },
     "execution_count": 29,
     "metadata": {},
     "output_type": "execute_result"
    }
   ],
   "source": [
    "res_df_nov"
   ]
  },
  {
   "cell_type": "code",
   "execution_count": 31,
   "metadata": {},
   "outputs": [
    {
     "name": "stdout",
     "output_type": "stream",
     "text": [
      "\n",
      "Reading pickle file:  datasets_AM//avlilumove_cleaned_properties.pkl\n",
      "(280, 153)\n"
     ]
    }
   ],
   "source": [
    "# read pickle file\n",
    "pickle_input = \"datasets_AM//avlilumove_cleaned_properties.pkl\"\n",
    "print(\"\\nReading pickle file: \", pickle_input)\n",
    "with open(pickle_input, \"rb\") as f:\n",
    "    avlilumove_testset = pickle.load(f)\n",
    "print(avlilumove_testset.shape)\n",
    "\n",
    "descs_avl = avlilumove_testset.reindex(columns=df.columns) # use only columns after cleaning from training set\n",
    "descs_avl = descs_avl.drop(['pKa'], axis=1,  errors=\"ignore\")\n",
    "if 'ROMol' not in avlilumove_testset.columns:\n",
    "    avlilumove_testset['ROMol'] = avlilumove_testset['ISO_SMI'].apply(Chem.MolFromSmiles)\n",
    "\n",
    "descs_avl, fmorgan_avl, descs_fmorgan_avl = calc_x_data(descs_avl, avlilumove_testset.ROMol, radius=radius, nBits=nBits)"
   ]
  },
  {
   "cell_type": "code",
   "execution_count": 32,
   "metadata": {},
   "outputs": [],
   "source": [
    "res_df_avl = test_all_models(descs_avl, fmorgan_avl, descs_fmorgan_avl, avlilumove_testset.pKa)"
   ]
  },
  {
   "cell_type": "code",
   "execution_count": 33,
   "metadata": {
    "pycharm": {
     "name": "#%%\n"
    }
   },
   "outputs": [
    {
     "data": {
      "text/html": [
       "<div>\n",
       "<style scoped>\n",
       "    .dataframe tbody tr th:only-of-type {\n",
       "        vertical-align: middle;\n",
       "    }\n",
       "\n",
       "    .dataframe tbody tr th {\n",
       "        vertical-align: top;\n",
       "    }\n",
       "\n",
       "    .dataframe thead th {\n",
       "        text-align: right;\n",
       "    }\n",
       "</style>\n",
       "<table border=\"1\" class=\"dataframe\">\n",
       "  <thead>\n",
       "    <tr style=\"text-align: right;\">\n",
       "      <th></th>\n",
       "      <th>Model</th>\n",
       "      <th>Trainset</th>\n",
       "      <th>MAE</th>\n",
       "      <th>RMSE</th>\n",
       "      <th>R2</th>\n",
       "    </tr>\n",
       "  </thead>\n",
       "  <tbody>\n",
       "    <tr>\n",
       "      <th>0</th>\n",
       "      <td>RandomForest (n_estimators=1000)</td>\n",
       "      <td>Desc</td>\n",
       "      <td>0.891</td>\n",
       "      <td>1.095</td>\n",
       "      <td>0.774</td>\n",
       "    </tr>\n",
       "    <tr>\n",
       "      <th>1</th>\n",
       "      <td>RandomForest (n_estimators=1000)</td>\n",
       "      <td>FMorgan</td>\n",
       "      <td>0.687</td>\n",
       "      <td>0.910</td>\n",
       "      <td>0.844</td>\n",
       "    </tr>\n",
       "    <tr>\n",
       "      <th>2</th>\n",
       "      <td>RandomForest (n_estimators=1000)</td>\n",
       "      <td>Desc_FMorgan</td>\n",
       "      <td>0.801</td>\n",
       "      <td>1.007</td>\n",
       "      <td>0.809</td>\n",
       "    </tr>\n",
       "    <tr>\n",
       "      <th>3</th>\n",
       "      <td>RandomForest (n_estimators=1000)</td>\n",
       "      <td>Desc_scaled</td>\n",
       "      <td>0.884</td>\n",
       "      <td>1.082</td>\n",
       "      <td>0.779</td>\n",
       "    </tr>\n",
       "    <tr>\n",
       "      <th>4</th>\n",
       "      <td>RandomForest (n_estimators=1000)</td>\n",
       "      <td>FMorgan_scaled</td>\n",
       "      <td>0.687</td>\n",
       "      <td>0.910</td>\n",
       "      <td>0.844</td>\n",
       "    </tr>\n",
       "    <tr>\n",
       "      <th>5</th>\n",
       "      <td>RandomForest (n_estimators=1000)</td>\n",
       "      <td>Desc_FMorgan_scaled</td>\n",
       "      <td>0.795</td>\n",
       "      <td>1.005</td>\n",
       "      <td>0.810</td>\n",
       "    </tr>\n",
       "  </tbody>\n",
       "</table>\n",
       "</div>"
      ],
      "text/plain": [
       "                              Model             Trainset   MAE  RMSE    R2\n",
       "0  RandomForest (n_estimators=1000)                 Desc 0.891 1.095 0.774\n",
       "1  RandomForest (n_estimators=1000)              FMorgan 0.687 0.910 0.844\n",
       "2  RandomForest (n_estimators=1000)         Desc_FMorgan 0.801 1.007 0.809\n",
       "3  RandomForest (n_estimators=1000)          Desc_scaled 0.884 1.082 0.779\n",
       "4  RandomForest (n_estimators=1000)       FMorgan_scaled 0.687 0.910 0.844\n",
       "5  RandomForest (n_estimators=1000)  Desc_FMorgan_scaled 0.795 1.005 0.810"
      ]
     },
     "execution_count": 33,
     "metadata": {},
     "output_type": "execute_result"
    }
   ],
   "source": [
    "res_df_avl"
   ]
  }
 ],
 "metadata": {
  "kernelspec": {
   "display_name": "Python 3 (ipykernel)",
   "language": "python",
   "name": "python3"
  },
  "language_info": {
   "codemirror_mode": {
    "name": "ipython",
    "version": 3
   },
   "file_extension": ".py",
   "mimetype": "text/x-python",
   "name": "python",
   "nbconvert_exporter": "python",
   "pygments_lexer": "ipython3",
   "version": "3.11.0"
  },
  "pycharm": {
   "stem_cell": {
    "cell_type": "raw",
    "metadata": {
     "collapsed": false
    },
    "source": []
   }
  }
 },
 "nbformat": 4,
 "nbformat_minor": 4
}
