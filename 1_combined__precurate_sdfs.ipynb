{
 "cells": [
  {
   "cell_type": "code",
   "execution_count": 1,
   "metadata": {},
   "outputs": [],
   "source": [
    "import numpy as np\n",
    "import pandas as pd\n",
    "from rdkit.Chem import PandasTools, AllChem as Chem\n",
    "import pickle\n",
    "\n",
    "pd.set_option('display.float_format', lambda x: '%.3f' % x)  # Display floats without scientific notation\n",
    "PandasTools.RenderImagesInAllDataFrames()  # Render mol images\n",
    "\n",
    "pka_low = 1.7\n",
    "pka_high = 13.0"
   ]
  },
  {
   "cell_type": "code",
   "execution_count": 2,
   "metadata": {},
   "outputs": [],
   "source": [
    "def duplicates(df: pd.DataFrame) -> pd.DataFrame:\n",
    "    \"\"\"Find duplicates based on the ISO smiles average the pKa values, then drop the duplicates\n",
    "    \"\"\"\n",
    "    assert 'ISO_SMI' in df.columns, \"Column 'ISO_SMI' does not exist in the DataFrame.\"\n",
    "    # not sure if the assert is necessary?\n",
    "    \n",
    "    df_duplicates = df[df.duplicated(subset='ISO_SMI', keep=False)].sort_values('ISO_SMI')\n",
    "\n",
    "    if df_duplicates.shape[0] > 0:\n",
    "        print(\"Duplicates found: \", df_duplicates.shape)\n",
    "\n",
    "        mean_pKa = df_duplicates.groupby('ISO_SMI')['pKa'].mean()\n",
    "        \n",
    "        # the outliers don't seem to be a problem; add code anyway just in case\n",
    "        std_pKa = df_duplicates.groupby('ISO_SMI')['pKa'].std()\n",
    "        threshold = mean_pKa + 2 * std_pKa\n",
    "        threshold = threshold.reindex(df_duplicates['pKa'].index)\n",
    "        outliers = df_duplicates[df_duplicates['pKa'] > threshold]\n",
    "        print(\"outliers (empty df if none, optional usage so far only)\\n\", outliers)\n",
    "        print(\"----------------------------------------\")\n",
    "\n",
    "        df_duplicates['pKa'] = mean_pKa\n",
    "        df_duplicates.drop_duplicates(subset='ISO_SMI', inplace=True)\n",
    "        \n",
    "        print(\"bedore drop duplicates\", df.shape)\n",
    "        df = df[~df.index.isin(df_duplicates.index)]\n",
    "        df = df.reindex()\n",
    "        print(\"after drop duplicates\", df.shape)\n",
    "    else:\n",
    "        print(\"No duplicates found. DF shape remains at \", df.shape)\n",
    "\n",
    "    return df"
   ]
  },
  {
   "cell_type": "code",
   "execution_count": 3,
   "metadata": {},
   "outputs": [],
   "source": [
    "sdf_path = './datasets_AM/avlilumove_cleaned.sdf'\n",
    "df_avli = PandasTools.LoadSDF(sdf_path)\n",
    "sdf_path = './datasets_AM/chembl_cleaned.sdf'\n",
    "df_chembl = PandasTools.LoadSDF(sdf_path)\n",
    "sdf_path = './datasets_AM/datawarrior_cleaned.sdf'\n",
    "df_dw = PandasTools.LoadSDF(sdf_path)\n",
    "sdf_path = './datasets_AM/novartis_cleaned.sdf'\n",
    "df_novar = PandasTools.LoadSDF(sdf_path)\n"
   ]
  },
  {
   "cell_type": "code",
   "execution_count": 4,
   "metadata": {},
   "outputs": [
    {
     "name": "stdout",
     "output_type": "stream",
     "text": [
      "AVLiLumove: (606, 6)\n",
      "Header: Index(['SMILES', 'pKa', 'database', 'temp', 'ID', 'ROMol'], dtype='object')\n",
      "Index Name: None\n",
      "----------------------------------------\n",
      "df_dw: (7303, 14)\n",
      "Header: Index(['pKa', 'temp', 'method', 'type', 'group', 'basicOrAcidic', 'Row-ID',\n",
      "       'Neighbor Similarity OrgFunctions 96%', 'Neighbor Count', 'Neighbor',\n",
      "       'Neighbor Analysis X', 'Neighbor Analysis Y', 'ID', 'ROMol'],\n",
      "      dtype='object')\n",
      "Index Name: None\n",
      "----------------------------------------\n",
      "df_novar: (280, 7)\n",
      "Header: Index(['pKa', 'marvin_pKa', 'marvin_atom', 'marvin_pKa_type', 'ISO_SMI', 'ID',\n",
      "       'ROMol'],\n",
      "      dtype='object')\n",
      "Index Name: None\n",
      "----------------------------------------\n",
      "df_chembl: (7639, 4)\n",
      "Header: Index(['pKa', 'temp', 'ID', 'ROMol'], dtype='object')\n",
      "Index Name: None\n",
      "----------------------------------------\n"
     ]
    }
   ],
   "source": [
    "print(\"AVLiLumove:\", df_avli.shape)\n",
    "print(\"Header:\", df_avli.columns)\n",
    "print(\"Index Name:\", df_avli.index.name)\n",
    "print(\"----------------------------------------\")\n",
    "print(\"df_dw:\", df_dw.shape)\n",
    "print(\"Header:\", df_dw.columns)\n",
    "print(\"Index Name:\", df_dw.index.name)\n",
    "print(\"----------------------------------------\")\n",
    "print(\"df_novar:\", df_novar.shape)\n",
    "print(\"Header:\", df_novar.columns)\n",
    "print(\"Index Name:\", df_novar.index.name)\n",
    "print(\"----------------------------------------\")\n",
    "print(\"df_chembl:\", df_chembl.shape)\n",
    "print(\"Header:\", df_chembl.columns)\n",
    "print(\"Index Name:\", df_chembl.index.name)\n",
    "print(\"----------------------------------------\")\n"
   ]
  },
  {
   "cell_type": "markdown",
   "metadata": {},
   "source": [
    "## Novartis dataset"
   ]
  },
  {
   "cell_type": "code",
   "execution_count": 5,
   "metadata": {},
   "outputs": [
    {
     "name": "stdout",
     "output_type": "stream",
     "text": [
      "No duplicates found. DF shape remains at  (280, 5)\n"
     ]
    },
    {
     "data": {
      "text/html": [
       "<div>\n",
       "<style scoped>\n",
       "    .dataframe tbody tr th:only-of-type {\n",
       "        vertical-align: middle;\n",
       "    }\n",
       "\n",
       "    .dataframe tbody tr th {\n",
       "        vertical-align: top;\n",
       "    }\n",
       "\n",
       "    .dataframe thead th {\n",
       "        text-align: right;\n",
       "    }\n",
       "</style>\n",
       "<table border=\"1\" class=\"dataframe\">\n",
       "  <thead>\n",
       "    <tr style=\"text-align: right;\">\n",
       "      <th></th>\n",
       "      <th>pKa</th>\n",
       "      <th>marvin_pKa</th>\n",
       "    </tr>\n",
       "  </thead>\n",
       "  <tbody>\n",
       "    <tr>\n",
       "      <th>count</th>\n",
       "      <td>280.000</td>\n",
       "      <td>280.000</td>\n",
       "    </tr>\n",
       "    <tr>\n",
       "      <th>mean</th>\n",
       "      <td>6.250</td>\n",
       "      <td>6.244</td>\n",
       "    </tr>\n",
       "    <tr>\n",
       "      <th>std</th>\n",
       "      <td>2.307</td>\n",
       "      <td>2.380</td>\n",
       "    </tr>\n",
       "    <tr>\n",
       "      <th>min</th>\n",
       "      <td>2.100</td>\n",
       "      <td>2.130</td>\n",
       "    </tr>\n",
       "    <tr>\n",
       "      <th>25%</th>\n",
       "      <td>4.200</td>\n",
       "      <td>4.057</td>\n",
       "    </tr>\n",
       "    <tr>\n",
       "      <th>50%</th>\n",
       "      <td>5.800</td>\n",
       "      <td>5.975</td>\n",
       "    </tr>\n",
       "    <tr>\n",
       "      <th>75%</th>\n",
       "      <td>8.350</td>\n",
       "      <td>8.322</td>\n",
       "    </tr>\n",
       "    <tr>\n",
       "      <th>max</th>\n",
       "      <td>11.700</td>\n",
       "      <td>11.820</td>\n",
       "    </tr>\n",
       "  </tbody>\n",
       "</table>\n",
       "</div>"
      ],
      "text/plain": [
       "          pKa  marvin_pKa\n",
       "count 280.000     280.000\n",
       "mean    6.250       6.244\n",
       "std     2.307       2.380\n",
       "min     2.100       2.130\n",
       "25%     4.200       4.057\n",
       "50%     5.800       5.975\n",
       "75%     8.350       8.322\n",
       "max    11.700      11.820"
      ]
     },
     "execution_count": 5,
     "metadata": {},
     "output_type": "execute_result"
    }
   ],
   "source": [
    "df_novar.drop(['marvin_atom', 'marvin_pKa_type', 'ID'], axis=1, inplace=True)\n",
    "df_novar['Source'] = \"Novartis\"\n",
    "df_novar['pKa'] = df_novar['pKa'].astype(float)\n",
    "df_novar = df_novar[(df_novar['pKa'] >= pka_low) & (df_novar['pKa'] <= pka_high)]\n",
    "df_novar['marvin_pKa'] = df_novar['marvin_pKa'].astype(float)\n",
    "df_novar['ISO_SMI'] = df_novar['ISO_SMI'].astype(str)\n",
    "df_novar = duplicates(df_novar)\n",
    "df_novar.describe()\n"
   ]
  },
  {
   "cell_type": "markdown",
   "metadata": {},
   "source": [
    "## Avli dataset"
   ]
  },
  {
   "cell_type": "code",
   "execution_count": 6,
   "metadata": {},
   "outputs": [
    {
     "name": "stdout",
     "output_type": "stream",
     "text": [
      "Duplicates found:  (183, 4)\n",
      "outliers (empty df if none, optional usage so far only)\n",
      " Empty DataFrame\n",
      "Columns: [pKa, Source, ROMol, ISO_SMI]\n",
      "Index: []\n",
      "----------------------------------------\n",
      "bedore drop duplicates (605, 4)\n",
      "after drop duplicates (521, 4)\n"
     ]
    },
    {
     "data": {
      "text/html": [
       "<div>\n",
       "<style scoped>\n",
       "    .dataframe tbody tr th:only-of-type {\n",
       "        vertical-align: middle;\n",
       "    }\n",
       "\n",
       "    .dataframe tbody tr th {\n",
       "        vertical-align: top;\n",
       "    }\n",
       "\n",
       "    .dataframe thead th {\n",
       "        text-align: right;\n",
       "    }\n",
       "</style>\n",
       "<table border=\"1\" class=\"dataframe\">\n",
       "  <thead>\n",
       "    <tr style=\"text-align: right;\">\n",
       "      <th></th>\n",
       "      <th>pKa</th>\n",
       "    </tr>\n",
       "  </thead>\n",
       "  <tbody>\n",
       "    <tr>\n",
       "      <th>count</th>\n",
       "      <td>521.000</td>\n",
       "    </tr>\n",
       "    <tr>\n",
       "      <th>mean</th>\n",
       "      <td>7.292</td>\n",
       "    </tr>\n",
       "    <tr>\n",
       "      <th>std</th>\n",
       "      <td>2.560</td>\n",
       "    </tr>\n",
       "    <tr>\n",
       "      <th>min</th>\n",
       "      <td>1.770</td>\n",
       "    </tr>\n",
       "    <tr>\n",
       "      <th>25%</th>\n",
       "      <td>4.700</td>\n",
       "    </tr>\n",
       "    <tr>\n",
       "      <th>50%</th>\n",
       "      <td>8.150</td>\n",
       "    </tr>\n",
       "    <tr>\n",
       "      <th>75%</th>\n",
       "      <td>9.380</td>\n",
       "    </tr>\n",
       "    <tr>\n",
       "      <th>max</th>\n",
       "      <td>11.400</td>\n",
       "    </tr>\n",
       "  </tbody>\n",
       "</table>\n",
       "</div>"
      ],
      "text/plain": [
       "          pKa\n",
       "count 521.000\n",
       "mean    7.292\n",
       "std     2.560\n",
       "min     1.770\n",
       "25%     4.700\n",
       "50%     8.150\n",
       "75%     9.380\n",
       "max    11.400"
      ]
     },
     "execution_count": 6,
     "metadata": {},
     "output_type": "execute_result"
    }
   ],
   "source": [
    "df_avli['pKa'] = df_avli['pKa'].astype(float)\n",
    "df_avli = df_avli[(df_avli['pKa'] >= pka_low) & (df_avli['pKa'] <= pka_high)]\n",
    "df_avli.drop(['temp', 'ID', 'SMILES'], axis=1, inplace=True)\n",
    "df_avli['ISO_SMI'] = df_avli['ROMol'].apply(Chem.MolToSmiles, isomericSmiles=True)\n",
    "df_avli.rename(columns={'database': 'Source'}, inplace=True)\n",
    "df_avli = duplicates(df_avli)\n",
    "df_avli.describe()\n"
   ]
  },
  {
   "cell_type": "markdown",
   "metadata": {},
   "source": [
    "## Chembl dataset"
   ]
  },
  {
   "cell_type": "code",
   "execution_count": 7,
   "metadata": {},
   "outputs": [
    {
     "name": "stdout",
     "output_type": "stream",
     "text": [
      "Duplicates found:  (2447, 4)\n",
      "outliers (empty df if none, optional usage so far only)\n",
      " Empty DataFrame\n",
      "Columns: [pKa, ROMol, ISO_SMI, Source]\n",
      "Index: []\n",
      "----------------------------------------\n",
      "bedore drop duplicates (7412, 4)\n",
      "after drop duplicates (6547, 4)\n"
     ]
    },
    {
     "data": {
      "text/html": [
       "<div>\n",
       "<style scoped>\n",
       "    .dataframe tbody tr th:only-of-type {\n",
       "        vertical-align: middle;\n",
       "    }\n",
       "\n",
       "    .dataframe tbody tr th {\n",
       "        vertical-align: top;\n",
       "    }\n",
       "\n",
       "    .dataframe thead th {\n",
       "        text-align: right;\n",
       "    }\n",
       "</style>\n",
       "<table border=\"1\" class=\"dataframe\">\n",
       "  <thead>\n",
       "    <tr style=\"text-align: right;\">\n",
       "      <th></th>\n",
       "      <th>pKa</th>\n",
       "    </tr>\n",
       "  </thead>\n",
       "  <tbody>\n",
       "    <tr>\n",
       "      <th>count</th>\n",
       "      <td>6547.000</td>\n",
       "    </tr>\n",
       "    <tr>\n",
       "      <th>mean</th>\n",
       "      <td>7.145</td>\n",
       "    </tr>\n",
       "    <tr>\n",
       "      <th>std</th>\n",
       "      <td>2.267</td>\n",
       "    </tr>\n",
       "    <tr>\n",
       "      <th>min</th>\n",
       "      <td>1.700</td>\n",
       "    </tr>\n",
       "    <tr>\n",
       "      <th>25%</th>\n",
       "      <td>5.500</td>\n",
       "    </tr>\n",
       "    <tr>\n",
       "      <th>50%</th>\n",
       "      <td>7.430</td>\n",
       "    </tr>\n",
       "    <tr>\n",
       "      <th>75%</th>\n",
       "      <td>8.900</td>\n",
       "    </tr>\n",
       "    <tr>\n",
       "      <th>max</th>\n",
       "      <td>13.000</td>\n",
       "    </tr>\n",
       "  </tbody>\n",
       "</table>\n",
       "</div>"
      ],
      "text/plain": [
       "           pKa\n",
       "count 6547.000\n",
       "mean     7.145\n",
       "std      2.267\n",
       "min      1.700\n",
       "25%      5.500\n",
       "50%      7.430\n",
       "75%      8.900\n",
       "max     13.000"
      ]
     },
     "execution_count": 7,
     "metadata": {},
     "output_type": "execute_result"
    }
   ],
   "source": [
    "df_chembl['pKa'] = df_chembl['pKa'].astype(float)\n",
    "df_chembl = df_chembl[(df_chembl['pKa'] >= pka_low) & (df_chembl['pKa'] <= pka_high)]\n",
    "df_chembl.drop(['temp', 'ID'], axis=1, inplace=True)\n",
    "df_chembl['ISO_SMI'] = df_chembl['ROMol'].apply(Chem.MolToSmiles, isomericSmiles=True)\n",
    "df_chembl['Source'] = \"Chembl\"\n",
    "df_chembl = duplicates(df_chembl)\n",
    "df_chembl.describe()\n"
   ]
  },
  {
   "cell_type": "markdown",
   "metadata": {},
   "source": [
    "## Datawarrior dataset"
   ]
  },
  {
   "cell_type": "code",
   "execution_count": 8,
   "metadata": {},
   "outputs": [
    {
     "name": "stdout",
     "output_type": "stream",
     "text": [
      "Duplicates found:  (659, 4)\n",
      "outliers (empty df if none, optional usage so far only)\n",
      " Empty DataFrame\n",
      "Columns: [pKa, ROMol, ISO_SMI, Source]\n",
      "Index: []\n",
      "----------------------------------------\n",
      "bedore drop duplicates (6793, 4)\n",
      "after drop duplicates (6465, 4)\n"
     ]
    },
    {
     "data": {
      "text/html": [
       "<div>\n",
       "<style scoped>\n",
       "    .dataframe tbody tr th:only-of-type {\n",
       "        vertical-align: middle;\n",
       "    }\n",
       "\n",
       "    .dataframe tbody tr th {\n",
       "        vertical-align: top;\n",
       "    }\n",
       "\n",
       "    .dataframe thead th {\n",
       "        text-align: right;\n",
       "    }\n",
       "</style>\n",
       "<table border=\"1\" class=\"dataframe\">\n",
       "  <thead>\n",
       "    <tr style=\"text-align: right;\">\n",
       "      <th></th>\n",
       "      <th>pKa</th>\n",
       "    </tr>\n",
       "  </thead>\n",
       "  <tbody>\n",
       "    <tr>\n",
       "      <th>count</th>\n",
       "      <td>6465.000</td>\n",
       "    </tr>\n",
       "    <tr>\n",
       "      <th>mean</th>\n",
       "      <td>6.848</td>\n",
       "    </tr>\n",
       "    <tr>\n",
       "      <th>std</th>\n",
       "      <td>2.829</td>\n",
       "    </tr>\n",
       "    <tr>\n",
       "      <th>min</th>\n",
       "      <td>1.700</td>\n",
       "    </tr>\n",
       "    <tr>\n",
       "      <th>25%</th>\n",
       "      <td>4.350</td>\n",
       "    </tr>\n",
       "    <tr>\n",
       "      <th>50%</th>\n",
       "      <td>6.900</td>\n",
       "    </tr>\n",
       "    <tr>\n",
       "      <th>75%</th>\n",
       "      <td>9.280</td>\n",
       "    </tr>\n",
       "    <tr>\n",
       "      <th>max</th>\n",
       "      <td>13.000</td>\n",
       "    </tr>\n",
       "  </tbody>\n",
       "</table>\n",
       "</div>"
      ],
      "text/plain": [
       "           pKa\n",
       "count 6465.000\n",
       "mean     6.848\n",
       "std      2.829\n",
       "min      1.700\n",
       "25%      4.350\n",
       "50%      6.900\n",
       "75%      9.280\n",
       "max     13.000"
      ]
     },
     "execution_count": 8,
     "metadata": {},
     "output_type": "execute_result"
    }
   ],
   "source": [
    "df_dw['pKa'] = df_dw['pKa'].astype(float)\n",
    "df_dw = df_dw[(df_dw['pKa'] >= pka_low) & (df_dw['pKa'] <= pka_high)]\n",
    "df_dw = df_dw.loc[:, ['pKa', 'ROMol']]\n",
    "df_dw['ISO_SMI'] = df_dw['ROMol'].apply(Chem.MolToSmiles, isomericSmiles=True)\n",
    "df_dw['Source'] = \"DataWarrior\"\n",
    "df_dw = duplicates(df_dw)\n",
    "df_dw.describe()"
   ]
  },
  {
   "cell_type": "markdown",
   "metadata": {},
   "source": [
    "## Combine all the dataframes and check again for duplicates"
   ]
  },
  {
   "cell_type": "code",
   "execution_count": 9,
   "metadata": {},
   "outputs": [
    {
     "name": "stdout",
     "output_type": "stream",
     "text": [
      "Combined DF: (13813, 5)\n",
      "Combine DF:             pKa  marvin_pKa\n",
      "count 13813.000     280.000\n",
      "mean      6.993       6.244\n",
      "std       2.563       2.380\n",
      "min       1.700       2.130\n",
      "25%       4.790       4.057\n",
      "50%       7.300       5.975\n",
      "75%       9.100       8.322\n",
      "max      13.000      11.820\n",
      "    pKa  Source                                             ROMol  \\\n",
      "0 9.300  Vertex  <rdkit.Chem.rdchem.Mol object at 0x7f27bb8529d0>   \n",
      "1 5.500  Vertex  <rdkit.Chem.rdchem.Mol object at 0x7f27bb852ab0>   \n",
      "2 8.600  Vertex  <rdkit.Chem.rdchem.Mol object at 0x7f27bb852c70>   \n",
      "3 9.400  Vertex  <rdkit.Chem.rdchem.Mol object at 0x7f27bb852e30>   \n",
      "4 6.050  Vertex  <rdkit.Chem.rdchem.Mol object at 0x7f27bb852f10>   \n",
      "\n",
      "                                             ISO_SMI  marvin_pKa  \n",
      "0  COc1c(N2C[C@@H]3CCCN[C@@H]3C2)c(F)cc2c(=O)c(C(...         NaN  \n",
      "1     CN1CCN(c2c(F)cc3c(=O)c(C(=O)O)cn(CCF)c3c2F)CC1         NaN  \n",
      "2  C[C@H]1COc2c(N3CCN(C)CC3)c(F)cc3c(=O)c(C(=O)O)...         NaN  \n",
      "3  COc1c(N2CCNC(C)C2)c(F)cc2c(=O)c(C(=O)O)cn(C3CC...         NaN  \n",
      "4          CCn1cc(C(=O)O)c(=O)c2cc(F)c(N3CCNCC3)cc21         NaN  \n"
     ]
    }
   ],
   "source": [
    "combined_df = pd.concat([df_avli, df_chembl, df_dw, df_novar], ignore_index=True)\n",
    "combined_df['marvin_pKa'].fillna(np.nan, inplace=True)\n",
    "print(\"Combined DF:\", combined_df.shape)\n",
    "print(\"Combine DF:\", combined_df.describe())\n",
    "print(combined_df.head(5))"
   ]
  },
  {
   "cell_type": "code",
   "execution_count": 10,
   "metadata": {},
   "outputs": [
    {
     "name": "stdout",
     "output_type": "stream",
     "text": [
      "Duplicates found:  (1769, 5)\n",
      "outliers (empty df if none, optional usage so far only)\n",
      " Empty DataFrame\n",
      "Columns: [pKa, Source, ROMol, ISO_SMI, marvin_pKa]\n",
      "Index: []\n",
      "----------------------------------------\n",
      "bedore drop duplicates (13813, 5)\n",
      "after drop duplicates (13219, 5)\n"
     ]
    }
   ],
   "source": [
    "final_df = duplicates(combined_df)"
   ]
  },
  {
   "cell_type": "code",
   "execution_count": 11,
   "metadata": {},
   "outputs": [],
   "source": [
    "# randomize the order of the rows for later ML purposes\n",
    "final_df = final_df.sample(frac=1, random_state=42).reset_index(drop=True)"
   ]
  },
  {
   "cell_type": "markdown",
   "metadata": {},
   "source": [
    "## write to different formats"
   ]
  },
  {
   "cell_type": "code",
   "execution_count": 12,
   "metadata": {},
   "outputs": [],
   "source": [
    "PandasTools.WriteSDF(final_df, './datasets_AM/all_data_cleaned.sdf', molColName='ROMol', properties=list(final_df.columns))\n",
    "final_df.to_csv('./datasets_AM/all_data_cleaned.csv', sep='\\t', index=False, header=True)\n",
    "pickle_path = './datasets_AM/all_data_cleaned.pkl'\n",
    "with open(pickle_path, 'wb') as file:\n",
    "    pickle.dump(final_df, file)"
   ]
  }
 ],
 "metadata": {
  "kernelspec": {
   "display_name": "Python 3 (ipykernel)",
   "language": "python",
   "name": "python3"
  },
  "language_info": {
   "codemirror_mode": {
    "name": "ipython",
    "version": 3
   },
   "file_extension": ".py",
   "mimetype": "text/x-python",
   "name": "python",
   "nbconvert_exporter": "python",
   "pygments_lexer": "ipython3",
   "version": "3.11.0"
  },
  "pycharm": {
   "stem_cell": {
    "cell_type": "raw",
    "metadata": {
     "collapsed": false
    },
    "source": []
   }
  }
 },
 "nbformat": 4,
 "nbformat_minor": 4
}
