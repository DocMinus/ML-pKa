{
 "cells": [
  {
   "cell_type": "markdown",
   "metadata": {},
   "source": [
    "## Imports"
   ]
  },
  {
   "cell_type": "code",
   "execution_count": 2,
   "metadata": {},
   "outputs": [],
   "source": [
    "from collections import defaultdict as ddict, OrderedDict as odict\n",
    "from typing import Any, Dict, List\n",
    "\n",
    "import matplotlib.pyplot as plt\n",
    "import numpy as np\n",
    "import pandas as pd\n",
    "from rdkit.Chem import PandasTools, AllChem as Chem, Descriptors\n",
    "from rdkit.ML.Descriptors.MoleculeDescriptors import MolecularDescriptorCalculator\n",
    "\n",
    "\n",
    "pd.set_option('display.float_format', lambda x: '%.3f' % x)  # Display floats without scientific notation\n",
    "PandasTools.RenderImagesInAllDataFrames()  # Render mol images\n",
    "\n"
   ]
  },
  {
   "cell_type": "markdown",
   "metadata": {},
   "source": [
    "---\n",
    "## Loading Datasets"
   ]
  },
  {
   "cell_type": "code",
   "execution_count": 8,
   "metadata": {},
   "outputs": [],
   "source": [
    "sdf_path = './datasets/combined_training_datasets_unique_no_oe.sdf'\n",
    "all_df = PandasTools.LoadSDF(sdf_path).astype(dict(pKa=float, \n",
    "                                                   marvin_atom=int, \n",
    "                                                   marvin_pKa=float), \n",
    "                                                   copy=False).set_index('ID', verify_integrity=True)\n",
    "all_df.drop('ROMol', axis=1, inplace=True)\n",
    "all_df.to_csv('./datasets/combined_training_datasets_unique.csv', sep='\\t', index=True, header=True)\n"
   ]
  },
  {
   "cell_type": "code",
   "execution_count": 6,
   "metadata": {},
   "outputs": [
    {
     "data": {
      "text/html": [
       "<div>\n",
       "<style scoped>\n",
       "    .dataframe tbody tr th:only-of-type {\n",
       "        vertical-align: middle;\n",
       "    }\n",
       "\n",
       "    .dataframe tbody tr th {\n",
       "        vertical-align: top;\n",
       "    }\n",
       "\n",
       "    .dataframe thead th {\n",
       "        text-align: right;\n",
       "    }\n",
       "</style>\n",
       "<table border=\"1\" class=\"dataframe\">\n",
       "  <thead>\n",
       "    <tr style=\"text-align: right;\">\n",
       "      <th></th>\n",
       "      <th>pKa</th>\n",
       "      <th>marvin_pKa</th>\n",
       "      <th>marvin_atom</th>\n",
       "      <th>marvin_pKa_type</th>\n",
       "      <th>ISO_SMI</th>\n",
       "    </tr>\n",
       "    <tr>\n",
       "      <th>ID</th>\n",
       "      <th></th>\n",
       "      <th></th>\n",
       "      <th></th>\n",
       "      <th></th>\n",
       "      <th></th>\n",
       "    </tr>\n",
       "  </thead>\n",
       "  <tbody>\n",
       "    <tr>\n",
       "      <th>353</th>\n",
       "      <td>7.42</td>\n",
       "      <td>8.6</td>\n",
       "      <td>10</td>\n",
       "      <td>basic</td>\n",
       "      <td>C#CC[NH+](C)[C@H](C)Cc1ccc(F)cc1</td>\n",
       "    </tr>\n",
       "    <tr>\n",
       "      <th>181</th>\n",
       "      <td>9.5</td>\n",
       "      <td>9.86</td>\n",
       "      <td>9</td>\n",
       "      <td>basic</td>\n",
       "      <td>CC(=O)CC1CCCC[NH2+]1</td>\n",
       "    </tr>\n",
       "  </tbody>\n",
       "</table>\n",
       "</div>"
      ],
      "text/plain": [
       "      pKa marvin_pKa marvin_atom marvin_pKa_type  \\\n",
       "ID                                                 \n",
       "353  7.42        8.6          10           basic   \n",
       "181   9.5       9.86           9           basic   \n",
       "\n",
       "                              ISO_SMI  \n",
       "ID                                     \n",
       "353  C#CC[NH+](C)[C@H](C)Cc1ccc(F)cc1  \n",
       "181              CC(=O)CC1CCCC[NH2+]1  "
      ]
     },
     "execution_count": 6,
     "metadata": {},
     "output_type": "execute_result"
    }
   ],
   "source": [
    "novartis_testset = PandasTools.LoadSDF('./datasets/novartis_cleaned_mono_unique_notraindata.sdf').set_index('ID', verify_integrity=True)\n",
    "#novartis_testset['SMILES'] = novartis_testset['ROMol'].apply(Chem.MolToSmiles)\n",
    "novartis_testset.drop('ROMol', axis=1, inplace=True)\n",
    "avlilumove_testset = PandasTools.LoadSDF('./datasets/AvLiLuMoVe_cleaned_mono_unique_notraindata.sdf').set_index('ID', verify_integrity=True)\n",
    "#avlilumove_testset['SMILES'] = avlilumove_testset['ROMol'].apply(Chem.MolToSmiles)\n",
    "avlilumove_testset.drop('ROMol', axis=1, inplace=True)"
   ]
  },
  {
   "cell_type": "code",
   "execution_count": 5,
   "metadata": {},
   "outputs": [],
   "source": [
    "avlilumove_testset.to_csv('./datasets/avlilumove_testset.csv', sep='\\t', index=False, header=True)\n",
    "novartis_testset.to_csv('./datasets/novartis_testset.csv', sep='\\t', index=False, header=True)\n"
   ]
  }
 ],
 "metadata": {
  "kernelspec": {
   "display_name": "Python 3 (ipykernel)",
   "language": "python",
   "name": "python3"
  },
  "language_info": {
   "codemirror_mode": {
    "name": "ipython",
    "version": 3
   },
   "file_extension": ".py",
   "mimetype": "text/x-python",
   "name": "python",
   "nbconvert_exporter": "python",
   "pygments_lexer": "ipython3",
   "version": "3.11.0"
  },
  "pycharm": {
   "stem_cell": {
    "cell_type": "raw",
    "metadata": {
     "collapsed": false
    },
    "source": []
   }
  }
 },
 "nbformat": 4,
 "nbformat_minor": 4
}
